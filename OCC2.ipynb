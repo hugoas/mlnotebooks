{
 "cells": [
  {
   "cell_type": "code",
   "execution_count": 1,
   "metadata": {},
   "outputs": [],
   "source": [
    "import numpy as np\n",
    "import pandas as pd\n",
    "import matplotlib.pyplot as plt\n",
    "import seaborn as sns\n",
    "from imblearn.over_sampling import SMOTE\n",
    "from sklearn.ensemble import IsolationForest\n",
    "from sklearn.neighbors import LocalOutlierFactor\n",
    "from sklearn.ensemble import RandomForestClassifier\n",
    "from sklearn.model_selection import train_test_split\n",
    "from sklearn.metrics import classification_report,accuracy_score"
   ]
  },
  {
   "cell_type": "code",
   "execution_count": 2,
   "metadata": {},
   "outputs": [],
   "source": [
    "#Loading the dataset from the csv file using pandas\n",
    "data =pd.read_csv('glass-0-1-2-3_vs_4-5-6.csv', header = None)"
   ]
  },
  {
   "cell_type": "code",
   "execution_count": 3,
   "metadata": {},
   "outputs": [
    {
     "name": "stdout",
     "output_type": "stream",
     "text": [
      "Int64Index([0, 1, 2, 3, 4, 5, 6, 7, 8, 9], dtype='int64')\n"
     ]
    }
   ],
   "source": [
    "#exploring the dataset\n",
    "print(data.columns)"
   ]
  },
  {
   "cell_type": "code",
   "execution_count": 4,
   "metadata": {},
   "outputs": [],
   "source": [
    "data.columns=['v1','v2','v3','v4','v5','v6','v7','v8','v9','Class']"
   ]
  },
  {
   "cell_type": "code",
   "execution_count": 5,
   "metadata": {},
   "outputs": [
    {
     "name": "stdout",
     "output_type": "stream",
     "text": [
      "               v1            v2           v3          v4            v5  \\\n",
      "count  214.000000    214.000000   214.000000  214.000000    214.000000   \n",
      "mean     1.518366    980.688157    52.989301    1.444895  12613.121321   \n",
      "std      0.003037   3538.105952   422.981011    0.499361  27494.343383   \n",
      "min      1.511150     10.730000     0.000000    0.290000     69.810000   \n",
      "25%      1.516526     12.942788     2.113668    1.188800     72.394400   \n",
      "50%      1.517688     13.346775     3.479750    1.358930     72.957200   \n",
      "75%      1.519163     13.986838     3.609960    1.628570     73.388400   \n",
      "max      1.533930  15126.000000  3592.000000    3.500000  73702.000000   \n",
      "\n",
      "               v6            v7          v8          v9       Class  \n",
      "count  214.000000    214.000000  214.000000  214.000000  214.000000  \n",
      "mean    17.891039    313.356772    0.177563   15.279695    0.238318  \n",
      "std    102.675204   1672.968946    0.497925   76.941003    0.427053  \n",
      "min      0.000000      5.430000    0.000000    0.000000    0.000000  \n",
      "25%      0.121095      8.238360    0.000000    0.000000    0.000000  \n",
      "50%      0.555795      8.614960    0.000000    0.000000    0.000000  \n",
      "75%      0.608580      9.408510    0.000000    0.068850    0.000000  \n",
      "max    621.000000  11617.000000    3.150000  459.000000    1.000000  \n",
      "(214, 10)\n"
     ]
    }
   ],
   "source": [
    "print(data.describe())\n",
    "print(data.shape)"
   ]
  },
  {
   "cell_type": "code",
   "execution_count": 6,
   "metadata": {},
   "outputs": [],
   "source": [
    "columns = data.columns.tolist()\n",
    "\n",
    "columns = [c for c in columns if c not in [\"Class\"]]\n",
    "target = \"Class\"\n",
    "X = data[columns]\n",
    "Y = data[target]\n",
    "Fraud = data[data[\"Class\"]==1]\n",
    "valid = data[data[\"Class\"]==0]\n",
    "outlier_fraction=len(Fraud)/float(len(valid))"
   ]
  },
  {
   "cell_type": "code",
   "execution_count": null,
   "metadata": {},
   "outputs": [],
   "source": [
    "clf = \"IsolationForest\":IsolationForest(max_samples=len(X), contamination = outlier_fraction,random_state=1)"
   ]
  },
  {
   "cell_type": "code",
   "execution_count": 23,
   "metadata": {},
   "outputs": [],
   "source": [
    "classifiers = {\n",
    "    \"IsolationForest\":IsolationForest(max_samples=len(X),\n",
    "                                     contamination = outlier_fraction,random_state=1),\n",
    "    \"Local Outlier Factor\":LocalOutlierFactor(\n",
    "    n_neighbors=20,\n",
    "    contamination = outlier_fraction),\n",
    "    \"One Class SVM\":OneClassSVM(gamma='auto',nu=0.5)\n",
    "}"
   ]
  },
  {
   "cell_type": "code",
   "execution_count": 24,
   "metadata": {},
   "outputs": [
    {
     "name": "stdout",
     "output_type": "stream",
     "text": [
      "IsolationForest: 56\n",
      "0.7383177570093458\n",
      "              precision    recall  f1-score   support\n",
      "\n",
      "           0       0.86      0.78      0.82       163\n",
      "           1       0.46      0.61      0.53        51\n",
      "\n",
      "    accuracy                           0.74       214\n",
      "   macro avg       0.66      0.69      0.67       214\n",
      "weighted avg       0.77      0.74      0.75       214\n",
      "\n",
      "Local Outlier Factor: 72\n",
      "0.6635514018691588\n",
      "              precision    recall  f1-score   support\n",
      "\n",
      "           0       0.81      0.73      0.77       163\n",
      "           1       0.34      0.45      0.39        51\n",
      "\n",
      "    accuracy                           0.66       214\n",
      "   macro avg       0.58      0.59      0.58       214\n",
      "weighted avg       0.70      0.66      0.68       214\n",
      "\n",
      "One Class SVM: 88\n",
      "0.5887850467289719\n",
      "              precision    recall  f1-score   support\n",
      "\n",
      "           0       0.85      0.56      0.67       163\n",
      "           1       0.33      0.69      0.44        51\n",
      "\n",
      "    accuracy                           0.59       214\n",
      "   macro avg       0.59      0.62      0.56       214\n",
      "weighted avg       0.73      0.59      0.62       214\n",
      "\n"
     ]
    }
   ],
   "source": [
    "n_outliers=len(Fraud)\n",
    "\n",
    "for i,(model_name,model) in enumerate(classifiers.items()):\n",
    "    \n",
    "    if model_name==\"Local Outlier Factor\":\n",
    "        y_pred = model.fit_predict(X)\n",
    "        scores_pred = model.negative_outlier_factor_\n",
    "    else:\n",
    "        model.fit(X)\n",
    "        scores_pred=model.decision_function(X)\n",
    "        y_pred=model.predict(X)\n",
    "#0 for valid and 1 for Fraud    \n",
    "    y_pred[y_pred==1]=0\n",
    "    y_pred[y_pred==-1]=1\n",
    "    \n",
    "    n_errors=(y_pred!=Y).sum()\n",
    "    \n",
    "    print(\"{}: {}\".format(model_name,n_errors))\n",
    "    print(accuracy_score(Y,y_pred))\n",
    "    print(classification_report(Y,y_pred))"
   ]
  },
  {
   "cell_type": "code",
   "execution_count": 25,
   "metadata": {},
   "outputs": [
    {
     "name": "stdout",
     "output_type": "stream",
     "text": [
      "0.9534883720930233\n",
      "              precision    recall  f1-score   support\n",
      "\n",
      "           0       0.97      0.97      0.97        31\n",
      "           1       0.92      0.92      0.92        12\n",
      "\n",
      "    accuracy                           0.95        43\n",
      "   macro avg       0.94      0.94      0.94        43\n",
      "weighted avg       0.95      0.95      0.95        43\n",
      "\n"
     ]
    }
   ],
   "source": [
    "x_train,x_test,y_train,y_test = train_test_split(X,Y,test_size=0.2)\n",
    "\n",
    "rf = RandomForestClassifier(n_estimators=100,max_depth=10,random_state=1)\n",
    "rf.fit(x_train,y_train)\n",
    "y_predict = rf.predict(x_test)\n",
    "\n",
    "\n",
    "print(accuracy_score(y_test,y_predict))\n",
    "print(classification_report(y_test,y_predict))"
   ]
  },
  {
   "cell_type": "code",
   "execution_count": 28,
   "metadata": {},
   "outputs": [
    {
     "name": "stdout",
     "output_type": "stream",
     "text": [
      "Accuracy: 0.0444 (0.0889)\n"
     ]
    }
   ],
   "source": [
    "from numpy import mean,std\n",
    "from sklearn.svm import OneClassSVM\n",
    "from sklearn.model_selection import cross_val_score\n",
    "\n",
    "clf = OneClassSVM(gamma='auto',nu=0.3)\n",
    "scores = cross_val_score(clf,x_test,y_test, scoring = 'accuracy', cv=5)\n",
    "print('Accuracy: %.4f (%.4f)' %(mean(scores), std(scores)))"
   ]
  },
  {
   "cell_type": "code",
   "execution_count": null,
   "metadata": {},
   "outputs": [],
   "source": []
  }
 ],
 "metadata": {
  "kernelspec": {
   "display_name": "Python 3",
   "language": "python",
   "name": "python3"
  },
  "language_info": {
   "codemirror_mode": {
    "name": "ipython",
    "version": 3
   },
   "file_extension": ".py",
   "mimetype": "text/x-python",
   "name": "python",
   "nbconvert_exporter": "python",
   "pygments_lexer": "ipython3",
   "version": "3.8.5"
  }
 },
 "nbformat": 4,
 "nbformat_minor": 4
}
