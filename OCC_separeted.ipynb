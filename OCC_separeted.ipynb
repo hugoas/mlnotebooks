{
 "cells": [
  {
   "cell_type": "code",
   "execution_count": 34,
   "metadata": {},
   "outputs": [],
   "source": [
    "import numpy as np\n",
    "import pandas as pd\n",
    "import matplotlib.pyplot as plt\n",
    "import seaborn as sns\n",
    "from imblearn.over_sampling import SMOTE\n",
    "from sklearn.ensemble import IsolationForest\n",
    "from sklearn.neighbors import LocalOutlierFactor\n",
    "from sklearn.svm import OneClassSVM\n",
    "#from sklearn.ensemble import RandomForestClassifier\n",
    "from sklearn.model_selection import train_test_split\n",
    "from sklearn.metrics import classification_report,accuracy_score"
   ]
  },
  {
   "cell_type": "code",
   "execution_count": 29,
   "metadata": {},
   "outputs": [],
   "source": [
    "#Loading the dataset from the csv file using pandas\n",
    "data =pd.read_csv('glass-0-1-2-3_vs_4-5-6.csv', header = None)"
   ]
  },
  {
   "cell_type": "code",
   "execution_count": 30,
   "metadata": {},
   "outputs": [],
   "source": [
    "data.columns=['v1','v2','v3','v4','v5','v6','v7','v8','v9','Class']"
   ]
  },
  {
   "cell_type": "code",
   "execution_count": 31,
   "metadata": {},
   "outputs": [],
   "source": [
    "columns = data.columns.tolist()\n",
    "columns = [c for c in columns if c not in [\"Class\"]]\n",
    "target = \"Class\"\n",
    "X = data[columns]\n",
    "Y = data[target]\n",
    "Fraud = data[data[\"Class\"]==1]\n",
    "valid = data[data[\"Class\"]==0]\n",
    "outlier_fraction=len(Fraud)/float(len(valid))"
   ]
  },
  {
   "cell_type": "code",
   "execution_count": 32,
   "metadata": {},
   "outputs": [],
   "source": [
    "x_train,x_test,y_train,y_test = train_test_split(X,Y,test_size=0.2)"
   ]
  },
  {
   "cell_type": "code",
   "execution_count": 20,
   "metadata": {},
   "outputs": [
    {
     "name": "stdout",
     "output_type": "stream",
     "text": [
      "0.6511627906976745\n",
      "              precision    recall  f1-score   support\n",
      "\n",
      "           0       0.74      0.81      0.77        31\n",
      "           1       0.33      0.25      0.29        12\n",
      "\n",
      "    accuracy                           0.65        43\n",
      "   macro avg       0.53      0.53      0.53        43\n",
      "weighted avg       0.62      0.65      0.63        43\n",
      "\n"
     ]
    }
   ],
   "source": [
    "model = IsolationForest(max_samples=len(X),contamination = outlier_fraction,random_state=1)\n",
    "model.fit(X)\n",
    "scores_pred=model.decision_function(X)\n",
    "y_pred=model.predict(X)\n",
    "#0 for valid and 1 for Fraud    \n",
    "y_pred[y_pred==1]=0\n",
    "y_pred[y_pred==-1]=1\n",
    "\n",
    "print(accuracy_score(y_test,y_predict))\n",
    "print(classification_report(y_test,y_predict))"
   ]
  },
  {
   "cell_type": "code",
   "execution_count": 27,
   "metadata": {},
   "outputs": [
    {
     "name": "stdout",
     "output_type": "stream",
     "text": [
      "0.7441860465116279\n",
      "              precision    recall  f1-score   support\n",
      "\n",
      "           0       0.85      0.83      0.84        35\n",
      "           1       0.33      0.38      0.35         8\n",
      "\n",
      "    accuracy                           0.74        43\n",
      "   macro avg       0.59      0.60      0.60        43\n",
      "weighted avg       0.76      0.74      0.75        43\n",
      "\n"
     ]
    }
   ],
   "source": [
    "modelLOL = LocalOutlierFactor(n_neighbors=20,contamination = outlier_fraction)\n",
    "modelLOL.fit(X)\n",
    "y_pred = modelLOL.fit_predict(X)\n",
    "scores_pred = modelLOL.negative_outlier_factor_\n",
    "#0 for valid and 1 for Fraud    \n",
    "y_pred[y_pred==1]=0\n",
    "y_pred[y_pred==-1]=1\n",
    "\n",
    "print(accuracy_score(y_test,y_predict))\n",
    "print(classification_report(y_test,y_predict))"
   ]
  },
  {
   "cell_type": "code",
   "execution_count": 35,
   "metadata": {},
   "outputs": [
    {
     "name": "stdout",
     "output_type": "stream",
     "text": [
      "0.6511627906976745\n",
      "              precision    recall  f1-score   support\n",
      "\n",
      "           0       0.74      0.81      0.77        31\n",
      "           1       0.33      0.25      0.29        12\n",
      "\n",
      "    accuracy                           0.65        43\n",
      "   macro avg       0.53      0.53      0.53        43\n",
      "weighted avg       0.62      0.65      0.63        43\n",
      "\n"
     ]
    }
   ],
   "source": [
    "modelSVM = OneClassSVM(gamma='auto',nu=0.5)\n",
    "modelSVM.fit(X)\n",
    "scores_pred=modelSVM.decision_function(X)\n",
    "y_pred=model.predict(X)\n",
    "#0 for valid and 1 for Fraud    \n",
    "y_pred[y_pred==1]=0\n",
    "y_pred[y_pred==-1]=1\n",
    "\n",
    "print(accuracy_score(y_test,y_predict))\n",
    "print(classification_report(y_test,y_predict))"
   ]
  },
  {
   "cell_type": "code",
   "execution_count": null,
   "metadata": {},
   "outputs": [],
   "source": []
  }
 ],
 "metadata": {
  "kernelspec": {
   "display_name": "Python 3",
   "language": "python",
   "name": "python3"
  },
  "language_info": {
   "codemirror_mode": {
    "name": "ipython",
    "version": 3
   },
   "file_extension": ".py",
   "mimetype": "text/x-python",
   "name": "python",
   "nbconvert_exporter": "python",
   "pygments_lexer": "ipython3",
   "version": "3.8.5"
  }
 },
 "nbformat": 4,
 "nbformat_minor": 4
}
