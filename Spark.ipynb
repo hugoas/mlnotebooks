{
 "cells": [
  {
   "cell_type": "code",
   "execution_count": 140,
   "id": "e3d2a5a7-6b76-421e-9559-7aa0a8bd5461",
   "metadata": {},
   "outputs": [],
   "source": [
    "import findspark\n",
    "#inicializacao spark\n",
    "findspark.init()\n",
    "import pyspark\n",
    "from pyspark.context import SparkContext\n",
    "from pyspark.sql.session import SparkSession\n",
    "import quinn\n",
    "sc = SparkContext.getOrCreate()\n",
    "spark = SparkSession(sc)\n",
    "#Biblioteca para conexao com o PostgreSQL\n",
    "import psycopg2"
   ]
  },
  {
   "cell_type": "code",
   "execution_count": 157,
   "id": "2fbeb2f5-5482-4076-b728-741623dd8493",
   "metadata": {},
   "outputs": [
    {
     "name": "stdout",
     "output_type": "stream",
     "text": [
      "DataFrame[_c0: string, _c1: string, _c2: string, _c3: string]\n",
      "+---+---+---+---+\n",
      "|_c0|_c1|_c2|_c3|\n",
      "+---+---+---+---+\n",
      "| 30| 64|  1|  1|\n",
      "| 30| 62|  3|  1|\n",
      "| 30| 65|  0|  1|\n",
      "| 31| 59|  2|  1|\n",
      "| 31| 65|  4|  1|\n",
      "| 33| 58| 10|  1|\n",
      "| 33| 60|  0|  1|\n",
      "| 34| 59|  0|  2|\n",
      "| 34| 66|  9|  2|\n",
      "| 34| 58| 30|  1|\n",
      "+---+---+---+---+\n",
      "only showing top 10 rows\n",
      "\n"
     ]
    }
   ],
   "source": [
    "#Conexao com o Spark\n",
    "sqlCtx = SQLContext(spark)\n",
    "data = sqlCtx.read.options(header='False').csv(\"/home/hugosouza/Documentos/haberman.data\")\n",
    "print(data)\n",
    "data.show(10)"
   ]
  },
  {
   "cell_type": "code",
   "execution_count": 159,
   "id": "215b0bdb-8aab-4ab8-9f16-5eda76afde16",
   "metadata": {},
   "outputs": [
    {
     "name": "stdout",
     "output_type": "stream",
     "text": [
      "+------------+-----------+----------+------+\n",
      "|IdadeOperado|AnoOperacao|QntNodulos|Status|\n",
      "+------------+-----------+----------+------+\n",
      "|          30|         64|         1|     1|\n",
      "|          30|         62|         3|     1|\n",
      "|          30|         65|         0|     1|\n",
      "|          31|         59|         2|     1|\n",
      "|          31|         65|         4|     1|\n",
      "|          33|         58|        10|     1|\n",
      "|          33|         60|         0|     1|\n",
      "|          34|         59|         0|     2|\n",
      "|          34|         66|         9|     2|\n",
      "|          34|         58|        30|     1|\n",
      "+------------+-----------+----------+------+\n",
      "only showing top 10 rows\n",
      "\n"
     ]
    }
   ],
   "source": [
    "#renomear as colunas com o cabeçalho ausente\n",
    "dataM = data.withColumnRenamed('_c0','IdadeOperado')\\\n",
    "            .withColumnRenamed('_c1','AnoOperacao')\\\n",
    "            .withColumnRenamed('_c2','QntNodulos')\\\n",
    "            .withColumnRenamed('_c3','Status')\n",
    "dataM.show(10)"
   ]
  },
  {
   "cell_type": "code",
   "execution_count": 164,
   "id": "047a7aff-ed0b-4aab-bd46-934583bd420c",
   "metadata": {},
   "outputs": [
    {
     "name": "stdout",
     "output_type": "stream",
     "text": [
      "+------------+-----------+----------+------+\n",
      "|IdadeOperado|AnoOperacao|QntNodulos|Status|\n",
      "+------------+-----------+----------+------+\n",
      "|          30|         64|         1|     1|\n",
      "|          30|         62|         3|     1|\n",
      "|          30|         65|         0|     1|\n",
      "|          31|         59|         2|     1|\n",
      "|          31|         65|         4|     1|\n",
      "|          33|         58|        10|     1|\n",
      "|          33|         60|         0|     1|\n",
      "|          34|         58|        30|     1|\n",
      "|          34|         60|         1|     1|\n",
      "|          34|         61|        10|     1|\n",
      "+------------+-----------+----------+------+\n",
      "only showing top 10 rows\n",
      "\n"
     ]
    }
   ],
   "source": [
    "dataMortes = dataM[dataM['Status']=='1']\n",
    "dataMortes.show(10)"
   ]
  },
  {
   "cell_type": "code",
   "execution_count": 179,
   "id": "8b26811e-756e-4718-8623-85a7a365b92d",
   "metadata": {},
   "outputs": [],
   "source": [
    "#conexao postgresql\n",
    "conn = psycopg2.connect(host=\"localhost\", database=\"postgres\",\n",
    "                        user = \"postgres\",\n",
    "                        password = \"------\")"
   ]
  },
  {
   "cell_type": "code",
   "execution_count": 180,
   "id": "4f03768b-4142-48a9-8f30-6889684417f3",
   "metadata": {},
   "outputs": [],
   "source": [
    "cur = conn.cursor()"
   ]
  },
  {
   "cell_type": "code",
   "execution_count": 181,
   "id": "0e90f673-5861-491e-9751-eee2f5783ee6",
   "metadata": {},
   "outputs": [],
   "source": [
    "#criar tabelas no bd\n",
    "cur.execute(\"\"\"CREATE TABLE sobrevida \n",
    "           ( IdadeOperado integer, \n",
    "             AnoOperacao integer, \n",
    "             QntNodulos integer,\n",
    "             Status integer);\"\"\")"
   ]
  },
  {
   "cell_type": "code",
   "execution_count": 182,
   "id": "d0bb48bf-8f58-45d8-a5fc-a5b05cef7374",
   "metadata": {},
   "outputs": [],
   "source": [
    "a = [tuple(x) for x in dataMortes.collect()]"
   ]
  },
  {
   "cell_type": "code",
   "execution_count": 183,
   "id": "2170accc-ec10-4925-bf07-9b4f6eb3b54b",
   "metadata": {},
   "outputs": [],
   "source": [
    "b = ','.join(['%s'] * len(a))"
   ]
  },
  {
   "cell_type": "code",
   "execution_count": 184,
   "id": "d3f6274d-204d-4eb5-a9ca-28f080b84e39",
   "metadata": {},
   "outputs": [],
   "source": [
    "#insercao dos dados\n",
    "q = \"INSERT INTO sobrevida (IdadeOperado,AnoOperacao,QntNodulos,Status) VALUES {}\".format(b)"
   ]
  },
  {
   "cell_type": "code",
   "execution_count": 185,
   "id": "5f64a8f9-616a-4e24-9596-2ba52cc611c2",
   "metadata": {},
   "outputs": [],
   "source": [
    "cur.execute(q, a)"
   ]
  },
  {
   "cell_type": "code",
   "execution_count": 186,
   "id": "800d7dac-1e4c-409e-be29-0daec01f20e4",
   "metadata": {},
   "outputs": [],
   "source": [
    "cur.execute(\"SELECT * FROM mortes2;\")"
   ]
  },
  {
   "cell_type": "code",
   "execution_count": 187,
   "id": "5d2e3dea-3aa4-44b5-aa4b-f49b94523d20",
   "metadata": {},
   "outputs": [
    {
     "name": "stdout",
     "output_type": "stream",
     "text": [
      "(30, 64, 1, 1)\n",
      "(30, 62, 3, 1)\n",
      "(30, 65, 0, 1)\n",
      "(31, 59, 2, 1)\n",
      "(31, 65, 4, 1)\n"
     ]
    }
   ],
   "source": [
    "result = cur.fetchmany(5)\n",
    "for row in result:\n",
    "    print(row)\n",
    "conn.commit()"
   ]
  },
  {
   "cell_type": "code",
   "execution_count": 188,
   "id": "608a1c4a-ed3b-4c15-93d0-96a46430b00c",
   "metadata": {},
   "outputs": [],
   "source": [
    "#encerrar conexao\n",
    "cur.close()\n",
    "conn.close()"
   ]
  },
  {
   "cell_type": "code",
   "execution_count": null,
   "id": "268fe063-8425-4626-a2c3-308677033223",
   "metadata": {},
   "outputs": [],
   "source": []
  }
 ],
 "metadata": {
  "kernelspec": {
   "display_name": "Python 3",
   "language": "python",
   "name": "python3"
  },
  "language_info": {
   "codemirror_mode": {
    "name": "ipython",
    "version": 3
   },
   "file_extension": ".py",
   "mimetype": "text/x-python",
   "name": "python",
   "nbconvert_exporter": "python",
   "pygments_lexer": "ipython3",
   "version": "3.8.10"
  }
 },
 "nbformat": 4,
 "nbformat_minor": 5
}
