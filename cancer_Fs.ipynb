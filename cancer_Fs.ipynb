{
 "cells": [
  {
   "cell_type": "code",
   "execution_count": 37,
   "id": "statistical-stationery",
   "metadata": {},
   "outputs": [],
   "source": [
    "import pandas as pd\n",
    "import numpy as np\n",
    "from sklearn.datasets import load_breast_cancer\n",
    "from sklearn.feature_selection import SelectKBest, chi2, f_classif, mutual_info_classif\n",
    "from sklearn.ensemble import RandomForestClassifier\n",
    "from sklearn.model_selection import train_test_split\n",
    "from sklearn.metrics import accuracy_score\n",
    "from sklearn.preprocessing import StandardScaler, LabelEncoder\n",
    "from sklearn.pipeline import Pipeline\n",
    "from tabulate import tabulate"
   ]
  },
  {
   "cell_type": "code",
   "execution_count": 38,
   "id": "molecular-kelly",
   "metadata": {},
   "outputs": [],
   "source": [
    "X, y = load_breast_cancer(return_X_y=True)"
   ]
  },
  {
   "cell_type": "code",
   "execution_count": 43,
   "id": "integral-halloween",
   "metadata": {},
   "outputs": [
    {
     "name": "stdout",
     "output_type": "stream",
     "text": [
      "Random Forest Accuracy (Sem Seleção de Atributos):  94.74%\n"
     ]
    }
   ],
   "source": [
    "\n",
    "X_train, X_val, y_train, y_val = train_test_split(X, y, test_size=0.20, random_state=0, shuffle=True) \n",
    "\n",
    "\n",
    "'''Creating Pipeline [Feature Scaling & Classification]'''\n",
    "pipe = Pipeline([\n",
    "         (\"Feature_Scaling\", StandardScaler()),\n",
    "         (\"RandomForest_Classifier\", RandomForestClassifier(random_state=1, verbose=0)) ])\n",
    "\n",
    "pipe.fit(X_train, y_train)\n",
    "\n",
    "\n",
    "# Accuracy\n",
    "print(\"Random Forest Accuracy (Sem Seleção de Atributos): \", '{:.2%}'.format(pipe.score(X_val,y_val)))"
   ]
  },
  {
   "cell_type": "code",
   "execution_count": 62,
   "id": "enhanced-driving",
   "metadata": {},
   "outputs": [
    {
     "data": {
      "text/html": [
       "<div>\n",
       "<style scoped>\n",
       "    .dataframe tbody tr th:only-of-type {\n",
       "        vertical-align: middle;\n",
       "    }\n",
       "\n",
       "    .dataframe tbody tr th {\n",
       "        vertical-align: top;\n",
       "    }\n",
       "\n",
       "    .dataframe thead th {\n",
       "        text-align: right;\n",
       "    }\n",
       "</style>\n",
       "<table border=\"1\" class=\"dataframe\">\n",
       "  <thead>\n",
       "    <tr style=\"text-align: right;\">\n",
       "      <th></th>\n",
       "      <th>0</th>\n",
       "      <th>1</th>\n",
       "      <th>2</th>\n",
       "      <th>3</th>\n",
       "      <th>4</th>\n",
       "    </tr>\n",
       "  </thead>\n",
       "  <tbody>\n",
       "    <tr>\n",
       "      <th>0</th>\n",
       "      <td>122.80</td>\n",
       "      <td>1001.0</td>\n",
       "      <td>153.40</td>\n",
       "      <td>184.60</td>\n",
       "      <td>2019.0</td>\n",
       "    </tr>\n",
       "    <tr>\n",
       "      <th>1</th>\n",
       "      <td>132.90</td>\n",
       "      <td>1326.0</td>\n",
       "      <td>74.08</td>\n",
       "      <td>158.80</td>\n",
       "      <td>1956.0</td>\n",
       "    </tr>\n",
       "    <tr>\n",
       "      <th>2</th>\n",
       "      <td>130.00</td>\n",
       "      <td>1203.0</td>\n",
       "      <td>94.03</td>\n",
       "      <td>152.50</td>\n",
       "      <td>1709.0</td>\n",
       "    </tr>\n",
       "    <tr>\n",
       "      <th>3</th>\n",
       "      <td>77.58</td>\n",
       "      <td>386.1</td>\n",
       "      <td>27.23</td>\n",
       "      <td>98.87</td>\n",
       "      <td>567.7</td>\n",
       "    </tr>\n",
       "    <tr>\n",
       "      <th>4</th>\n",
       "      <td>135.10</td>\n",
       "      <td>1297.0</td>\n",
       "      <td>94.44</td>\n",
       "      <td>152.20</td>\n",
       "      <td>1575.0</td>\n",
       "    </tr>\n",
       "  </tbody>\n",
       "</table>\n",
       "</div>"
      ],
      "text/plain": [
       "        0       1       2       3       4\n",
       "0  122.80  1001.0  153.40  184.60  2019.0\n",
       "1  132.90  1326.0   74.08  158.80  1956.0\n",
       "2  130.00  1203.0   94.03  152.50  1709.0\n",
       "3   77.58   386.1   27.23   98.87   567.7\n",
       "4  135.10  1297.0   94.44  152.20  1575.0"
      ]
     },
     "execution_count": 62,
     "metadata": {},
     "output_type": "execute_result"
    }
   ],
   "source": [
    "\n",
    "X_new = pd.DataFrame(SelectKBest(chi2, k=5).fit_transform(X,y))\n",
    "\n",
    "#Inspect\n",
    "X_new.head()\n"
   ]
  },
  {
   "cell_type": "code",
   "execution_count": 63,
   "id": "local-holmes",
   "metadata": {},
   "outputs": [],
   "source": [
    "# Dataset Split\n",
    "''' Training = 90% & Validation = 10%  '''\n",
    "test_size = 0.2\n",
    "X_train, X_val, y_train, y_val = train_test_split(X_new, y, test_size=test_size, random_state=0, shuffle=True) \n",
    "\n",
    "# Feature Scale & Train Model\n",
    "pipe.fit(X_train, y_train)\n",
    "\n",
    "\n",
    "# Tabulate Data Empty List\n",
    "tab_data = []\n",
    "\n",
    "# Accuracy\n",
    "#print(\"Random Forest Accuracy (with feature selection): \", '{:.2%}'.format(pipe.score(X_val,y_val)))\n",
    "tab_data.append(['Chi2', '{:.2%}'.format(pipe.score(X_val,y_val))])"
   ]
  },
  {
   "cell_type": "code",
   "execution_count": 64,
   "id": "progressive-satisfaction",
   "metadata": {},
   "outputs": [],
   "source": [
    "'''Applying SelectKBest with Scoring Function = f_classif to Abalone dataset to retrieve the **4** best features.'''\n",
    "\n",
    "X_new = pd.DataFrame(SelectKBest(f_classif, k=4).fit_transform(X,y))\n",
    "\n",
    "# Dataset Split\n",
    "''' Training = 90% & Validation = 10%  '''\n",
    "test_size = 0.1\n",
    "X_train, X_val, y_train, y_val = train_test_split(X_new, y, test_size=test_size, random_state=0, shuffle=True) \n",
    "\n",
    "# Feature Scale & Train Model\n",
    "pipe.fit(X_train, y_train)\n",
    "\n",
    "# Accuracy\n",
    "#print(\"Random Forest Accuracy (with feature selection): \", '{:.2%}'.format(pipe.score(X_val,y_val)))\n",
    "tab_data.append(['f_classif', '{:.2%}'.format(pipe.score(X_val,y_val))])"
   ]
  },
  {
   "cell_type": "code",
   "execution_count": 65,
   "id": "commercial-communication",
   "metadata": {},
   "outputs": [],
   "source": [
    "\n",
    "\n",
    "'''Applying SelectKBest with Scoring Function = mutual_info_classif to Abalone dataset to retrieve the **4** best features.'''\n",
    "\n",
    "X_new = pd.DataFrame(SelectKBest(mutual_info_classif, k=4).fit_transform(X,y))\n",
    "\n",
    "# Dataset Split\n",
    "''' Training = 90% & Validation = 10%  '''\n",
    "test_size = 0.1\n",
    "X_train, X_val, y_train, y_val = train_test_split(X_new, y, test_size=test_size, random_state=0, shuffle=True) \n",
    "\n",
    "# Feature Scale & Train Model\n",
    "pipe.fit(X_train, y_train)\n",
    "\n",
    "# Accuracy\n",
    "#print(\"Random Forest Accuracy (with feature selection): \", '{:.2%}'.format(pipe.score(X_val,y_val)))\n",
    "tab_data.append(['mutual_info_classif', '{:.2%}'.format(pipe.score(X_val,y_val))])\n",
    "\n"
   ]
  },
  {
   "cell_type": "code",
   "execution_count": 67,
   "id": "australian-daisy",
   "metadata": {},
   "outputs": [
    {
     "name": "stdout",
     "output_type": "stream",
     "text": [
      "Acurácia do Random Forest (com SelectKBest):\n",
      "\n",
      " Scoring_Func         Accuracy\n",
      "-------------------  ----------\n",
      "Chi2                 95.61%\n",
      "f_classif            94.74%\n",
      "mutual_info_classif  92.98%\n"
     ]
    }
   ],
   "source": [
    "# Tabulate Data\n",
    "print(\"Acurácia do Random Forest (com SelectKBest):\\n\\n\", tabulate(tab_data, headers=['Scoring_Func', 'Accuracy']))"
   ]
  },
  {
   "cell_type": "code",
   "execution_count": null,
   "id": "developing-thumb",
   "metadata": {},
   "outputs": [],
   "source": []
  }
 ],
 "metadata": {
  "kernelspec": {
   "display_name": "Python 3",
   "language": "python",
   "name": "python3"
  },
  "language_info": {
   "codemirror_mode": {
    "name": "ipython",
    "version": 3
   },
   "file_extension": ".py",
   "mimetype": "text/x-python",
   "name": "python",
   "nbconvert_exporter": "python",
   "pygments_lexer": "ipython3",
   "version": "3.8.5"
  }
 },
 "nbformat": 4,
 "nbformat_minor": 5
}
